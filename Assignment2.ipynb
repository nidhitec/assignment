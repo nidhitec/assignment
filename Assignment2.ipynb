{
 "cells": [
  {
   "cell_type": "code",
   "execution_count": 5,
   "id": "40562957-a2d7-454e-b7dc-057a81538676",
   "metadata": {},
   "outputs": [
    {
     "name": "stdin",
     "output_type": "stream",
     "text": [
      "Enter the percentage of the student 67\n"
     ]
    },
    {
     "name": "stdout",
     "output_type": "stream",
     "text": [
      "C Grade\n"
     ]
    }
   ],
   "source": [
    "num=int(input(\"Enter the percentage of the student\"))\n",
    "\n",
    "if(num>90):\n",
    "    print(\"A Grade\")\n",
    "elif(num>80 and num<=90):\n",
    "    print(\"B Grade\")\n",
    "elif(num>=60 and num<=80):\n",
    "    print(\"C Grade\")\n",
    "else:\n",
    "    print(\"D Grade\")"
   ]
  },
  {
   "cell_type": "code",
   "execution_count": 7,
   "id": "cb67121e-4bd8-494a-b517-26fd6fcae8ff",
   "metadata": {},
   "outputs": [
    {
     "name": "stdin",
     "output_type": "stream",
     "text": [
      "Enter the cost price of the bike 30000\n"
     ]
    },
    {
     "name": "stdout",
     "output_type": "stream",
     "text": [
      "Road tax : 5%\n"
     ]
    }
   ],
   "source": [
    "num=int(input(\"Enter the cost price of the bike\"))\n",
    "\n",
    "if(num>100000):\n",
    "    print(\"Road tax : 15%\")\n",
    "elif(num>50000 and num<=100000):\n",
    "    print(\"Road tax : 10%\")\n",
    "elif(num<=50000):\n",
    "    print(\"Road tax : 5%\")"
   ]
  },
  {
   "cell_type": "code",
   "execution_count": 12,
   "id": "ca008b7a-9559-4fde-a63f-82f13574c15a",
   "metadata": {},
   "outputs": [
    {
     "name": "stdin",
     "output_type": "stream",
     "text": [
      "Enter the city bhilwara\n"
     ]
    },
    {
     "name": "stdout",
     "output_type": "stream",
     "text": [
      "Enter a valid city\n"
     ]
    }
   ],
   "source": [
    "city=input(\"Enter the city\")\n",
    "\n",
    "if city==\"Delhi\" :\n",
    "    print(\"Monument of that city is Red Fort\")\n",
    "elif city==\"Agra\" :\n",
    "    print(\"Monument of that city is Taj Mahal\")\n",
    "elif city==\"Jaipur\" :\n",
    "    print(\"Monument of that city is Jal Mahal\")\n",
    "else:\n",
    "    print(\"Enter a valid city\")"
   ]
  },
  {
   "cell_type": "code",
   "execution_count": 10,
   "id": "70483720-216f-47b1-bab9-d3bdaacd0756",
   "metadata": {},
   "outputs": [
    {
     "name": "stdout",
     "output_type": "stream",
     "text": [
      "total iteration required 1\n",
      "total iteration required 2\n",
      "total iteration required 3\n"
     ]
    }
   ],
   "source": [
    "count=0\n",
    "number=180\n",
    "while number>10:\n",
    "    \n",
    "    number=number/3\n",
    "    \n",
    "    count=count+1   \n",
    "    print(\"total iteration required\",count)\n",
    "        "
   ]
  },
  {
   "cell_type": "code",
   "execution_count": null,
   "id": "95b6955e-a013-48a3-8946-0cc13edf045f",
   "metadata": {},
   "outputs": [],
   "source": [
    "Now, the question might arise: when do we use a while loop, and why do we use it.\n",
    "\n",
    "Automate and repeat tasks.: As we know, while loops execute blocks of code over and over again until the condition is met\n",
    "it allows us to automate and repeat tasks in an efficient manner.\n",
    "Indefinite Iteration: The while loop will run as often as necessary to complete a particular task. When the user doesn’t\n",
    "know the number of iterations before execution, while loop is used instead of a for loop\n",
    "Reduce complexity: while loop is easy to write. using the loop, we don’t need to write the statements again and again. \n",
    "Instead, we can write statements we wanted to execute again and again inside the body of the loop thus, reducing the\n",
    "complexity of the code\n",
    "Infinite loop: If the code inside the while loop doesn’t modify the variables being tested in the loop condition, \n",
    "the loop will run forever.\n",
    "Let’s test the above statements.\n",
    "\n",
    "Example 1: Assure proper input from user\n",
    "\n",
    "In this example, we want a user to enter any number between 100 and 500.\n",
    "We will keep asking the user to enter a correct input until he/she enters the number within a given range.\n",
    "\n",
    "number = int(input('Enter any number between 100 and 500 '))\n",
    "while number < 100 or number > 500:\n",
    "    print('Incorrect number, Please enter correct number:')\n",
    "    number = int(input('Enter a Number between 100 and 500 '))\n",
    "else:\n",
    "    print(\"Given Number is correct\", number)"
   ]
  },
  {
   "cell_type": "code",
   "execution_count": 16,
   "id": "09638b39-446c-4270-bae1-7125a219edff",
   "metadata": {},
   "outputs": [
    {
     "name": "stdout",
     "output_type": "stream",
     "text": [
      "\n",
      "1 \n",
      "2 2 \n",
      "3 3 3 \n",
      "4 4 4 4 \n",
      "5 5 5 5 5 \n"
     ]
    }
   ],
   "source": [
    "rows = 6\n",
    "for i in range(rows):\n",
    "    for j in range(i):\n",
    "        print(i, end=' ')\n",
    "    print('')\n",
    "\n",
    "    "
   ]
  },
  {
   "cell_type": "code",
   "execution_count": 15,
   "id": "a1a8b589-096b-481c-82c6-c7e57cd78232",
   "metadata": {},
   "outputs": [
    {
     "name": "stdout",
     "output_type": "stream",
     "text": [
      "1 1 1 1 1 \n",
      "2 2 2 2 \n",
      "3 3 3 \n",
      "4 4 \n",
      "5 \n"
     ]
    }
   ],
   "source": [
    "rows = 5\n",
    "b = 0\n",
    "# reverse for loop from 5 to 0\n",
    "for i in range(rows, 0, -1):\n",
    "    b += 1\n",
    "    for j in range(1, i + 1):\n",
    "        print(b, end=' ')\n",
    "    print('\\r')"
   ]
  },
  {
   "cell_type": "code",
   "execution_count": 18,
   "id": "c462ac76-a419-4a15-b655-a2da0c890866",
   "metadata": {},
   "outputs": [
    {
     "name": "stdout",
     "output_type": "stream",
     "text": [
      "1 2 3 4 5 \n",
      "2 2 3 4 5 \n",
      "3 3 3 4 5 \n",
      "4 4 4 4 5 \n",
      "5 5 5 5 5 \n"
     ]
    }
   ],
   "source": [
    "rows = 5\n",
    "for i in range(1, rows + 1):\n",
    "    for j in range(1, rows + 1):\n",
    "        if j <= i:\n",
    "            print(i, end=' ')\n",
    "        else:\n",
    "            print(j, end=' ')\n",
    "    print()"
   ]
  },
  {
   "cell_type": "code",
   "execution_count": 28,
   "id": "3bc3995b-7270-4ff0-a326-5991271f9dab",
   "metadata": {},
   "outputs": [],
   "source": [
    "i=10\n",
    "while i>0:\n",
    "    print(i)\n",
    "    i=i-1"
   ]
  },
  {
   "cell_type": "code",
   "execution_count": null,
   "id": "50937d8c-afb1-4f85-af49-ff01c7111e37",
   "metadata": {},
   "outputs": [],
   "source": []
  }
 ],
 "metadata": {
  "kernelspec": {
   "display_name": "Python 3 (ipykernel)",
   "language": "python",
   "name": "python3"
  },
  "language_info": {
   "codemirror_mode": {
    "name": "ipython",
    "version": 3
   },
   "file_extension": ".py",
   "mimetype": "text/x-python",
   "name": "python",
   "nbconvert_exporter": "python",
   "pygments_lexer": "ipython3",
   "version": "3.10.8"
  }
 },
 "nbformat": 4,
 "nbformat_minor": 5
}
