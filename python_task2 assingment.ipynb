{
 "cells": [
  {
   "cell_type": "code",
   "execution_count": 13,
   "id": "e17b25f1-fafe-4ff3-892f-80a5c079a253",
   "metadata": {},
   "outputs": [],
   "source": [
    "def validation(password):\n",
    "    if len(password)!=10:\n",
    "        return \"Invalid password\"\n",
    "    \n",
    "    uppercase_count = 0\n",
    "    lowecase_count = 0\n",
    "    number_count = 0\n",
    "    special_count = 0\n",
    "    special_character = \"$#@!%\"\n",
    "\n",
    "    for i in password:\n",
    "        if i.islower():\n",
    "            lowecase_count += 1\n",
    "        elif i.isupper():\n",
    "            uppercase_count += 1\n",
    "        elif i.isdigit():\n",
    "            number_count += 1\n",
    "        elif i in special_character:\n",
    "            special_count +=1\n",
    "        \n",
    "    if uppercase_count>=2 and lowecase_count>=2 and number_count>=1 and special_count>=3:\n",
    "        return \"Valid Password\"\n",
    "    else :\n",
    "        return \"Invalid Password\"\n",
    "\n",
    "\n",
    "\n",
    "    password = input(\"Enter the password : \")\n",
    "    result = validation(password)\n",
    "    print(result)\n",
    "\n",
    "    "
   ]
  },
  {
   "cell_type": "code",
   "execution_count": 102,
   "id": "b6b04fbf-bc14-4f6b-860d-aac9db0884c9",
   "metadata": {},
   "outputs": [
    {
     "name": "stdout",
     "output_type": "stream",
     "text": [
      "True\n",
      "False\n",
      "True\n",
      "True\n",
      "True\n"
     ]
    }
   ],
   "source": [
    "l1=['123', 'abc', '23.5', '0', '-12',]\n",
    "\n",
    "result = lambda s :  s.replace('.', '', 1).lstrip('-').isdigit() if s.count('-') <= 1 and s.count('.') <= 1 else False\n",
    "\n",
    "for i in l1:\n",
    "    print(result(i))"
   ]
  },
  {
   "cell_type": "code",
   "execution_count": 107,
   "id": "7677d695-623d-44f4-9673-1647ed422230",
   "metadata": {},
   "outputs": [
    {
     "name": "stdout",
     "output_type": "stream",
     "text": [
      "[False, True, False, True]\n"
     ]
    }
   ],
   "source": [
    "l4 = ['Apple' , 'Mango' , 'Banana' , 'Muskmelom']\n",
    "def start_string(x):\n",
    "    for i in x:\n",
    "        if i.startswith('m') or i.startswith('M'):\n",
    "            return True\n",
    "        else:\n",
    "            return False \n",
    "        \n",
    "result = list(map(start_string , l4))\n",
    "print(result)"
   ]
  },
  {
   "cell_type": "code",
   "execution_count": 117,
   "id": "97b37e10-6a1f-44d9-af36-742988132f0a",
   "metadata": {},
   "outputs": [
    {
     "name": "stdout",
     "output_type": "stream",
     "text": [
      "Fruit: orange, Quantity: 80\n",
      "Fruit: mango, Quantity: 99\n",
      "Fruit: grapes, Quantity: 1000\n"
     ]
    },
    {
     "data": {
      "text/plain": [
       "[None, None, None]"
      ]
     },
     "execution_count": 117,
     "metadata": {},
     "output_type": "execute_result"
    }
   ],
   "source": [
    "\n",
    "fruits = [(\"mango\", 99), (\"orange\", 80), (\"grapes\", 1000)]\n",
    "\n",
    "\n",
    "sorted_fruits = sorted(fruits, key=lambda x: x[1])\n",
    "\n",
    "\n",
    "list(map(lambda x: print(f\" {x[0]}, Quantit{x[1]}\"), sorted_fruits))\n"
   ]
  },
  {
   "cell_type": "code",
   "execution_count": 106,
   "id": "04c60db8-1f6b-480d-b8e4-33e15d05332b",
   "metadata": {},
   "outputs": [
    {
     "data": {
      "text/plain": [
       "[1, 4, 9, 16, 25, 36, 49, 64, 81, 100]"
      ]
     },
     "execution_count": 106,
     "metadata": {},
     "output_type": "execute_result"
    }
   ],
   "source": [
    "def find_sq(x):\n",
    "    return x**2\n",
    "\n",
    "list(map(find_sq , range(1,11)))"
   ]
  },
  {
   "cell_type": "code",
   "execution_count": 105,
   "id": "7f5ac887-f425-4222-9e96-dc8b46326e94",
   "metadata": {},
   "outputs": [
    {
     "data": {
      "text/plain": [
       "[1, 8, 27, 64, 125, 216, 343, 512, 729, 1000]"
      ]
     },
     "execution_count": 105,
     "metadata": {},
     "output_type": "execute_result"
    }
   ],
   "source": [
    "def find_cube(x):\n",
    "    return x**3\n",
    "\n",
    "list(map(find_cube , range(1,11)))"
   ]
  },
  {
   "cell_type": "code",
   "execution_count": 103,
   "id": "76dd4cc1-7564-4541-9353-42f8ec3d8fb0",
   "metadata": {},
   "outputs": [
    {
     "data": {
      "text/plain": [
       "True"
      ]
     },
     "execution_count": 103,
     "metadata": {},
     "output_type": "execute_result"
    }
   ],
   "source": [
    "check_even = (lambda x : x % 2==0)\n",
    "check_even(4)"
   ]
  },
  {
   "cell_type": "code",
   "execution_count": 104,
   "id": "94e5b40f-3227-4045-92d3-bf610bb8ab74",
   "metadata": {},
   "outputs": [
    {
     "name": "stdout",
     "output_type": "stream",
     "text": [
      "1\n",
      "3\n",
      "5\n",
      "7\n",
      "9\n"
     ]
    },
    {
     "data": {
      "text/plain": [
       "[None, None, None, None, None, None, None, None, None, None]"
      ]
     },
     "execution_count": 104,
     "metadata": {},
     "output_type": "execute_result"
    }
   ],
   "source": [
    "l =[1,2,3,4,5,6,7,8,9,10]\n",
    "def find_odd(x):\n",
    "        if x%2!=0:\n",
    "            print(x)\n",
    "list(map(find_odd , range(1,11)))"
   ]
  },
  {
   "cell_type": "code",
   "execution_count": 32,
   "id": "cb0d5c61-3028-4207-80cd-dce23fc1e912",
   "metadata": {},
   "outputs": [],
   "source": [
    "l2 = [1,2,3,4,5,6,-1,-2,-3,-4,-5,0]"
   ]
  },
  {
   "cell_type": "code",
   "execution_count": 109,
   "id": "28bcc0c7-ca75-4d26-89f5-bd858dd2161b",
   "metadata": {},
   "outputs": [
    {
     "name": "stdout",
     "output_type": "stream",
     "text": [
      "[1, 2, 3, 4, 5, 6, 0, -1, -2, -3, -4, -5]\n"
     ]
    }
   ],
   "source": [
    "def sort(l):\n",
    "    l1=[]\n",
    "    l2=[]\n",
    "    l3=[]\n",
    "    for i in l:\n",
    "        if i>=0:\n",
    "            l1.append(i)\n",
    "        elif i<0:\n",
    "            l2.append(i)\n",
    "    l3=l1+l2\n",
    "    print(l3)\n",
    "    \n",
    "sort(l2)"
   ]
  },
  {
   "cell_type": "code",
   "execution_count": null,
   "id": "5e1a24de-c5b0-47a9-ad91-b62a718a4091",
   "metadata": {},
   "outputs": [],
   "source": []
  },
  {
   "cell_type": "code",
   "execution_count": null,
   "id": "8dffa823-23fa-4646-86aa-a52f2ac9a7ce",
   "metadata": {},
   "outputs": [],
   "source": []
  }
 ],
 "metadata": {
  "kernelspec": {
   "display_name": "Python 3 (ipykernel)",
   "language": "python",
   "name": "python3"
  },
  "language_info": {
   "codemirror_mode": {
    "name": "ipython",
    "version": 3
   },
   "file_extension": ".py",
   "mimetype": "text/x-python",
   "name": "python",
   "nbconvert_exporter": "python",
   "pygments_lexer": "ipython3",
   "version": "3.10.8"
  }
 },
 "nbformat": 4,
 "nbformat_minor": 5
}
