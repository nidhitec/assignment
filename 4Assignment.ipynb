{
 "cells": [
  {
   "cell_type": "code",
   "execution_count": 6,
   "id": "c965f2fc-0f39-4dcb-b5bd-61043cc12752",
   "metadata": {},
   "outputs": [],
   "source": [
    "# def keyword is used to create a function\n",
    "\n",
    "def find_odd():\n",
    "    l=[]\n",
    "    for i in range(25):\n",
    "        if i % 2 !=0:\n",
    "            l.append(i)\n",
    "    return l"
   ]
  },
  {
   "cell_type": "code",
   "execution_count": 7,
   "id": "5593ccfc-6016-4590-a9a8-e7b149bf33e4",
   "metadata": {},
   "outputs": [
    {
     "data": {
      "text/plain": [
       "[1, 3, 5, 7, 9, 11, 13, 15, 17, 19, 21, 23]"
      ]
     },
     "execution_count": 7,
     "metadata": {},
     "output_type": "execute_result"
    }
   ],
   "source": [
    "find_odd()"
   ]
  },
  {
   "cell_type": "code",
   "execution_count": 9,
   "id": "cde89a9a-b082-4b0d-b1a6-096ae72e136d",
   "metadata": {},
   "outputs": [],
   "source": [
    "#To pass a variable number of non-keyword arguments in the function,\n",
    "#we need to utilize an asterisk (*) before the parameter name\n",
    "#We can provide a Python function with any number of keyword arguments by using **kwargs.\n",
    "\n",
    "def test(*args):\n",
    "    return args"
   ]
  },
  {
   "cell_type": "code",
   "execution_count": 10,
   "id": "3357091c-e622-4e84-b9cd-a7da02f9f466",
   "metadata": {},
   "outputs": [
    {
     "data": {
      "text/plain": [
       "(1, 2, 3, 46, 8, 896, 34)"
      ]
     },
     "execution_count": 10,
     "metadata": {},
     "output_type": "execute_result"
    }
   ],
   "source": [
    "test(1,2,3,46,8,896,34)"
   ]
  },
  {
   "cell_type": "code",
   "execution_count": 11,
   "id": "3b378169-fdcd-4acb-b53e-af3bd69cd95b",
   "metadata": {},
   "outputs": [],
   "source": [
    "def test(**kwargs):\n",
    "    return kwargs"
   ]
  },
  {
   "cell_type": "code",
   "execution_count": 12,
   "id": "8be337df-12ed-4efe-b11d-27e554f9eb4f",
   "metadata": {},
   "outputs": [
    {
     "data": {
      "text/plain": [
       "{'a': 123, 'b': 'nidhi', 'c': [1, 22, 3, 5, 7, 8]}"
      ]
     },
     "execution_count": 12,
     "metadata": {},
     "output_type": "execute_result"
    }
   ],
   "source": [
    "test(a=123,b=\"nidhi\",c=[1,22,3,5,7,8])"
   ]
  },
  {
   "cell_type": "code",
   "execution_count": 21,
   "id": "2ac68df7-3f7b-4d6c-b49b-e5b1920acc1b",
   "metadata": {},
   "outputs": [
    {
     "name": "stdout",
     "output_type": "stream",
     "text": [
      "2\n",
      "4\n",
      "6\n",
      "8\n",
      "10\n"
     ]
    }
   ],
   "source": [
    "#An iterator is a programming concept used to traverse or loop through a collection of items,\n",
    "#It provides a way to access the elements of a collection sequentially\n",
    "#In Python, to initialize an iterator object, you typically use the iter() function, and to iterate through the element\n",
    "#of an iterator,you use the next()\n",
    "\n",
    "def frist_5_odd_num(lst):\n",
    "    iterator = iter(lst)\n",
    "    count = 0\n",
    "    while count < 5:\n",
    "        item = next(iterator)\n",
    "        print(item)\n",
    "        count=count+1\n",
    "        \n",
    "l=[2,4,6,8,10,12,14,16,18,20]\n",
    "frist_5_odd_num(l)"
   ]
  },
  {
   "cell_type": "code",
   "execution_count": 26,
   "id": "676db5f3-e39d-4063-96c4-ba0058bfaf2a",
   "metadata": {},
   "outputs": [
    {
     "name": "stdout",
     "output_type": "stream",
     "text": [
      "0\n",
      "1\n",
      "1\n",
      "2\n",
      "3\n",
      "5\n",
      "8\n",
      "13\n",
      "21\n",
      "34\n"
     ]
    }
   ],
   "source": [
    "# A generator function in Python is a special type of function that allows you to create iterators in a more concise \n",
    "# and memory-efficient way compared to traditional iterators or lists. \n",
    "# Instead of returning all the values at once like a list, a generator function yields values one at a time as they are\n",
    "# requested.\n",
    "# Generator functions are defined using the yield keyword. When the yield keyword is used inside a function, \n",
    "# it indicates that the function is a generator function, and the value specified after yield is emitted as the next item in \n",
    "#the sequence when the generator is iterated over.\n",
    "def fib(n):\n",
    "    a,b=0,1\n",
    "    for i in range(n):\n",
    "        yield a\n",
    "        a,b=b,a+b\n",
    "for i in fib(10):\n",
    "    print(i)"
   ]
  },
  {
   "cell_type": "code",
   "execution_count": 27,
   "id": "b64d2830-c4e9-4f8c-b967-a9371519a5a9",
   "metadata": {},
   "outputs": [
    {
     "name": "stdin",
     "output_type": "stream",
     "text": [
      "Input the number of prime numbers you want to generate?  20\n"
     ]
    },
    {
     "name": "stdout",
     "output_type": "stream",
     "text": [
      "First 20 Prime numbers:\n",
      "2\n",
      "3\n",
      "5\n",
      "7\n",
      "11\n",
      "13\n",
      "17\n",
      "19\n",
      "23\n",
      "29\n",
      "31\n",
      "37\n",
      "41\n",
      "43\n",
      "47\n",
      "53\n",
      "59\n",
      "61\n",
      "67\n",
      "71\n"
     ]
    }
   ],
   "source": [
    "def is_prime(n):\n",
    "    if n <= 1:\n",
    "        return False\n",
    "    for i in range(2, int(n**0.5) + 1):\n",
    "        if n % i == 0:\n",
    "            return False\n",
    "    return True\n",
    "\n",
    "def prime_nums_generator():\n",
    "    n = 2\n",
    "    while True:\n",
    "        if is_prime(n):\n",
    "            yield n\n",
    "        n += 1\n",
    "\n",
    "\n",
    "primes = prime_nums_generator()\n",
    "n = int(input(\"Input the number of prime numbers you want to generate? \"))\n",
    "print(\"First\",n,\"Prime numbers:\")\n",
    "for _ in range(n):\n",
    "    print(next(primes))"
   ]
  },
  {
   "cell_type": "code",
   "execution_count": 32,
   "id": "27f6676f-6810-4146-ae3d-03beea6aff99",
   "metadata": {},
   "outputs": [
    {
     "name": "stdin",
     "output_type": "stream",
     "text": [
      "Enter your numbet 10\n"
     ]
    },
    {
     "name": "stdout",
     "output_type": "stream",
     "text": [
      "0\n",
      "1\n",
      "1\n",
      "2\n",
      "3\n",
      "5\n",
      "8\n",
      "13\n",
      "21\n",
      "34\n"
     ]
    }
   ],
   "source": [
    "n=int(input(\"Enter your numbet\"))\n",
    "a,b=0,1\n",
    "count =0\n",
    "while count < n:\n",
    "    print(a)\n",
    "    c=a+b\n",
    "    a=b\n",
    "    b=c\n",
    "    count=count+1\n",
    "      "
   ]
  },
  {
   "cell_type": "code",
   "execution_count": null,
   "id": "f8edbd23-45bb-498e-8e40-10c5a5beefd6",
   "metadata": {},
   "outputs": [],
   "source": [
    "s=\"pwskills\"\n",
    "l = [i for i in s]\n",
    "print(l)"
   ]
  },
  {
   "cell_type": "code",
   "execution_count": null,
   "id": "00abc9a0-84b1-4d10-b920-b9200ffc8856",
   "metadata": {},
   "outputs": [],
   "source": [
    "num=int(input(\"Enter any number:\"))\n",
    "temp=num\n",
    "rev=0\n",
    "while(num>0):\n",
    "    dig=num%10\n",
    "    rev=rev*10+dig\n",
    "    num=num//10\n",
    "if(temp==rev):\n",
    "    print(\"The number is palindrome\")\n",
    "else:\n",
    "    print(\"Not a palindrome!\")"
   ]
  },
  {
   "cell_type": "code",
   "execution_count": 38,
   "id": "68f08628-21c3-4944-a9cd-c53b3fc97207",
   "metadata": {},
   "outputs": [
    {
     "name": "stdout",
     "output_type": "stream",
     "text": [
      "[1, 3, 5, 7, 9, 11, 13, 15, 17, 19, 21, 23, 25, 27, 29, 31, 33, 35, 37, 39, 41, 43, 45, 47, 49, 51, 53, 55, 57, 59, 61, 63, 65, 67, 69, 71, 73, 75, 77, 79, 81, 83, 85, 87, 89, 91, 93, 95, 97, 99]\n"
     ]
    }
   ],
   "source": [
    " l=[ i for i in range(100) if i%2!=0]\n",
    "print(l)"
   ]
  }
 ],
 "metadata": {
  "kernelspec": {
   "display_name": "Python 3 (ipykernel)",
   "language": "python",
   "name": "python3"
  },
  "language_info": {
   "codemirror_mode": {
    "name": "ipython",
    "version": 3
   },
   "file_extension": ".py",
   "mimetype": "text/x-python",
   "name": "python",
   "nbconvert_exporter": "python",
   "pygments_lexer": "ipython3",
   "version": "3.10.8"
  }
 },
 "nbformat": 4,
 "nbformat_minor": 5
}
