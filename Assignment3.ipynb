{
 "cells": [
  {
   "cell_type": "code",
   "execution_count": 4,
   "id": "ef6aa831-684b-4294-aa47-a381943991f9",
   "metadata": {},
   "outputs": [
    {
     "name": "stdout",
     "output_type": "stream",
     "text": [
      "1\n",
      "2\n",
      "3\n",
      "5\n",
      "6\n",
      "8\n",
      "9\n"
     ]
    }
   ],
   "source": [
    "Answer no. = 1\n",
    "For loop:\n",
    "A for loop is a control flow statement that executes code for a predefined number of iterations.\n",
    " The keyword used in this control flow statement is “for”.\n",
    " When the number of iterations is already known, the for loop is used.\n",
    " Example:\n",
    "inputlist=[1,2,3,5,6,8,9]\n",
    "for i in inputlist:\n",
    "        print(i)\n",
    "\n",
    "While loop:\n",
    "A loop that runs a single statement or a set of statements for a given true condition. \n",
    "This loop is represented by the keyword \"while.\"\n",
    "When the number of iterations is unknown, a \"while\" loop is used. \n",
    "The statement is repeated until the boolean value is false. \n",
    "Because the condition is tested at the beginning of a while loop, it is also known as the pre-test loop. \n",
    "   Example:\n",
    "i=1\n",
    "while i<10:\n",
    "    print(i)\n",
    "    i=i+1"
   ]
  },
  {
   "cell_type": "code",
   "execution_count": 13,
   "id": "d1567e6d-abf5-4e81-ab66-4188c52fab66",
   "metadata": {},
   "outputs": [
    {
     "name": "stdout",
     "output_type": "stream",
     "text": [
      "sum = 55\n"
     ]
    }
   ],
   "source": [
    "Answer no.=2\n",
    "For loop:\n",
    "n=10\n",
    "sum=0\n",
    "for i in range(n+1):\n",
    "    sum=sum+i\n",
    "print(sum)\n",
    "\n",
    "whileloop:\n",
    "n = 10\n",
    "sum = 0\n",
    "while n >= 0:\n",
    "    sum += n\n",
    "    n = n- 1\n",
    "print(\"sum =\", sum)"
   ]
  },
  {
   "cell_type": "code",
   "execution_count": 33,
   "id": "f2c4e4ab-7c92-4d05-a378-9fa7a18e1643",
   "metadata": {},
   "outputs": [
    {
     "name": "stdin",
     "output_type": "stream",
     "text": [
      "please enter the number of units you consumed in a month 310\n"
     ]
    },
    {
     "name": "stdout",
     "output_type": "stream",
     "text": [
      "2250.0\n"
     ]
    }
   ],
   "source": [
    "units=int(input(\"please enter the number of units you consumed in a month\"))\n",
    "payAmount=0\n",
    "if(units<=100):\n",
    "    payAmount=units*4.5\n",
    "elif(units<=200):\n",
    "    payAmount=(100*4.5)+(units-100)*6\n",
    "elif(units<=300):\n",
    "    payAmount=(100*4.5)+(200-100)*6+(units-200)*10\n",
    "elif(units>300):\n",
    "    payAmount=(100*4.5)+(200-100)*6+(300-200)*10+(units-300)*20\n",
    "print(payAmount)"
   ]
  },
  {
   "cell_type": "code",
   "execution_count": 33,
   "id": "93827810-564f-4f76-888c-0ee71d91f8f9",
   "metadata": {},
   "outputs": [
    {
     "name": "stdout",
     "output_type": "stream",
     "text": [
      "[8, 64, 125, 216, 512, 1000, 1728, 2744, 3375, 4096, 5832, 8000, 10648, 13824, 15625, 17576, 21952, 27000, 32768, 39304, 42875, 46656, 54872, 64000, 74088, 85184, 91125, 97336, 110592, 125000, 140608, 157464, 166375, 175616, 195112, 216000, 238328, 262144, 274625, 287496, 314432, 343000, 373248, 405224, 421875, 438976, 474552, 512000, 551368, 592704, 614125, 636056, 681472, 729000, 778688, 830584, 857375, 884736, 941192, 1000000]\n"
     ]
    }
   ],
   "source": [
    "cubes_for = []\n",
    "for number in range(1, 101):\n",
    "    cube = number ** 3\n",
    "    if cube % 4 == 0:\n",
    "        cubes_for.append(cube)\n",
    "    elif cube % 5 == 0:\n",
    "        cubes_for.append(cube)\n",
    "print(cubes_for)\n"
   ]
  },
  {
   "cell_type": "code",
   "execution_count": 34,
   "id": "7d91a1a7-68b0-48e9-9ebd-6e1d9a1b5a76",
   "metadata": {},
   "outputs": [
    {
     "name": "stdout",
     "output_type": "stream",
     "text": [
      "Number of vowels: 12\n"
     ]
    }
   ],
   "source": [
    "def count_vowels(string):\n",
    "\n",
    "    vowels = set(\"AEIOUaeiou\")\n",
    "    \n",
    "    \n",
    "    vowel_count = 0\n",
    "    \n",
    "    \n",
    "    for char in string:\n",
    "        if char in vowels:\n",
    "            vowel_count += 1\n",
    "    \n",
    "    return vowel_count\n",
    "\n",
    "\n",
    "input_string = \"I want to become a data scientist\"\n",
    "result = count_vowels(input_string)\n",
    "print(\"Number of vowels:\", result)\n"
   ]
  },
  {
   "cell_type": "code",
   "execution_count": null,
   "id": "eb52dcef-ec4f-4ff5-8465-508e2de1fc01",
   "metadata": {},
   "outputs": [],
   "source": []
  }
 ],
 "metadata": {
  "kernelspec": {
   "display_name": "Python 3 (ipykernel)",
   "language": "python",
   "name": "python3"
  },
  "language_info": {
   "codemirror_mode": {
    "name": "ipython",
    "version": 3
   },
   "file_extension": ".py",
   "mimetype": "text/x-python",
   "name": "python",
   "nbconvert_exporter": "python",
   "pygments_lexer": "ipython3",
   "version": "3.10.8"
  }
 },
 "nbformat": 4,
 "nbformat_minor": 5
}
