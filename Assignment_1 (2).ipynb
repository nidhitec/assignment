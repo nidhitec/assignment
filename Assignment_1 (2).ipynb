{
 "cells": [
  {
   "cell_type": "code",
   "execution_count": null,
   "id": "7644f0e7-c1b9-4dee-bbbf-15776d778229",
   "metadata": {},
   "outputs": [],
   "source": [
    "which type of programming does python support?\n",
    "Python supports four main programming paradigms: imperative, functional, procedural, and object-oriented."
   ]
  },
  {
   "cell_type": "code",
   "execution_count": null,
   "id": "8650930c-9bfb-4db7-8937-4088b19a0bbe",
   "metadata": {},
   "outputs": [],
   "source": [
    "what is the correct extension of the python file?\n",
    "pyc is the correct extension of the python file."
   ]
  },
  {
   "cell_type": "code",
   "execution_count": null,
   "id": "18fa5d09-7033-400f-a062-d1099f56caed",
   "metadata": {},
   "outputs": [],
   "source": [
    "Who developed python programming language ?\n",
    "Python was developed by Guido van Rossum.\n"
   ]
  },
  {
   "cell_type": "code",
   "execution_count": null,
   "id": "6d9d6256-7971-4813-9bca-ee453e7709ef",
   "metadata": {},
   "outputs": [],
   "source": [
    "Is python case sensitive when dealing with identifiers?\n",
    "yes, Python is a case−sensitive programming language."
   ]
  },
  {
   "cell_type": "code",
   "execution_count": null,
   "id": "e756ea71-a38b-4a53-917e-2790bf9f4c6c",
   "metadata": {},
   "outputs": [],
   "source": [
    "Is python code compiled or interpreted?\n",
    " interpreted."
   ]
  },
  {
   "cell_type": "code",
   "execution_count": null,
   "id": "690a2e3d-d651-47fe-9503-b2d231cf1ce4",
   "metadata": {},
   "outputs": [],
   "source": [
    "Name a few block of code used to define in python language?\n",
    " A module , a function body , and a class definition"
   ]
  },
  {
   "cell_type": "code",
   "execution_count": null,
   "id": "78588f60-7cc8-4e8a-bd68-f892fb5ada4f",
   "metadata": {},
   "outputs": [],
   "source": [
    "State a character used to give single line comments in python?\n",
    " #(hash) is used to give single line comments."
   ]
  },
  {
   "cell_type": "code",
   "execution_count": null,
   "id": "a5ba261f-2596-44f9-bce5-d5c6e8dd5486",
   "metadata": {},
   "outputs": [],
   "source": [
    "Mention functions which can help us to find the version of python that we are currently working on?\n",
    "The function sys. version can help us to find the version of python that we are currently working on."
   ]
  },
  {
   "cell_type": "code",
   "execution_count": null,
   "id": "d0dd30d7-1f45-470f-b492-4bb74d19e2a2",
   "metadata": {},
   "outputs": [],
   "source": [
    "Python suppports the creation of anonymous function at runtime,using construct called -- lmbda."
   ]
  },
  {
   "cell_type": "code",
   "execution_count": null,
   "id": "1d8eda9b-a9c7-4ba0-81d9-3a08446b6374",
   "metadata": {},
   "outputs": [],
   "source": [
    "What does pip stands for python?\n",
    " pip install packages."
   ]
  },
  {
   "cell_type": "code",
   "execution_count": null,
   "id": "ff352f79-b13c-4613-896f-96883fff510d",
   "metadata": {},
   "outputs": [],
   "source": [
    "Mention a few build in function in python?\n",
    "pow(),staticmethod(),str(),super(),tuple(),type(),vars() , etc."
   ]
  },
  {
   "cell_type": "code",
   "execution_count": null,
   "id": "c68d3946-e9ce-4672-81b7-6d5ac3c779ea",
   "metadata": {},
   "outputs": [],
   "source": [
    "What is the maximum possible length of an identifier in python?\n",
    "An identifier can have a maximum length of 79 characters in Python."
   ]
  },
  {
   "cell_type": "code",
   "execution_count": null,
   "id": "70aa0d70-b00a-4a0f-9434-3591406067b3",
   "metadata": {},
   "outputs": [],
   "source": [
    "What are the benefits of using python?\n",
    "Simple to use and understand.\n",
    "Free and open source\n",
    "Productivity has Increased\n",
    "Interpreted language."
   ]
  },
  {
   "cell_type": "code",
   "execution_count": null,
   "id": "fdeff8f6-645e-48df-b227-16eaea9dc6a3",
   "metadata": {},
   "outputs": [],
   "source": [
    "How is  memory manged in python?\n",
    "Memory management in Python involves the management of a private heap. "
   ]
  },
  {
   "cell_type": "code",
   "execution_count": null,
   "id": "c78bf3e2-097c-4df4-bf36-c74e319dcbac",
   "metadata": {},
   "outputs": [],
   "source": [
    "How to install python on windows and set path variables?\n",
    "Step - 1: Visit Official Site to Download Python Installer\n",
    "Step -2 Install Python\n",
    "Set path variable:\n",
    "1. Right click on My Computer and click on properties.\n",
    "\n",
    "2. Click on Advanced System settings\n",
    "\n",
    "3. Click on Environment Variable tab.\n",
    "\n",
    "4. Click on new tab of user variables.\n",
    "\n",
    "5. Write path in variable name\n",
    "\n",
    "6. Copy the path of Python folder\n",
    "\n",
    "7. Paste path of Python in variable value.\n",
    "\n",
    "8. Click on Ok button\n",
    "\n",
    "9. Click on Ok button"
   ]
  },
  {
   "cell_type": "code",
   "execution_count": null,
   "id": "9a27a857-bee6-4022-a236-bab5070b166f",
   "metadata": {},
   "outputs": [],
   "source": [
    "Is indentation required in python?\n",
    "ndentation is important to Python."
   ]
  }
 ],
 "metadata": {
  "kernelspec": {
   "display_name": "Python 3 (ipykernel)",
   "language": "python",
   "name": "python3"
  },
  "language_info": {
   "codemirror_mode": {
    "name": "ipython",
    "version": 3
   },
   "file_extension": ".py",
   "mimetype": "text/x-python",
   "name": "python",
   "nbconvert_exporter": "python",
   "pygments_lexer": "ipython3",
   "version": "3.10.8"
  }
 },
 "nbformat": 4,
 "nbformat_minor": 5
}
