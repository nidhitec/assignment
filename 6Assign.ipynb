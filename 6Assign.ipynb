{
 "cells": [
  {
   "cell_type": "code",
   "execution_count": 12,
   "id": "fdc7d89d-c491-4e8b-8f4e-7a7d634b94d9",
   "metadata": {},
   "outputs": [
    {
     "name": "stdout",
     "output_type": "stream",
     "text": [
      "welcome to my world\n"
     ]
    }
   ],
   "source": [
    "# Classes are user-defined data types that act as the blueprint for individual objects, attributes and methods. \n",
    "# Objects are instances of a class created with specifically defined data. \n",
    "# Objects can correspond to real-world objects or an abstract entity.\n",
    "\n",
    "class test:\n",
    "    \n",
    "    def return_to(self):\n",
    "        print(\"welcome to my world\")\n",
    "        \n",
    "obj = test()\n",
    "obj.return_to()"
   ]
  },
  {
   "cell_type": "code",
   "execution_count": 11,
   "id": "7b8be1cd-a3c7-4fd1-af8f-8a7ecb447e29",
   "metadata": {},
   "outputs": [],
   "source": [
    "# The four pillars of object orientes programming are:\n",
    "#     1)Inheritance\n",
    "#     2)Polymorphism \n",
    "#     3)Abstraction\n",
    "#     4)Encapsulation"
   ]
  },
  {
   "cell_type": "code",
   "execution_count": 15,
   "id": "35c36de6-da1d-4a59-8ef5-428171e18e65",
   "metadata": {},
   "outputs": [
    {
     "data": {
      "text/plain": [
       "('rohan', 'd', 'science')"
      ]
     },
     "execution_count": 15,
     "metadata": {},
     "output_type": "execute_result"
    }
   ],
   "source": [
    "#The __init__ function is called every time an object is created from a class. \n",
    "#The __init__ method lets the class initialize the object's attributes and serves no other purpose. \n",
    "#It is only used within classes.\n",
    "\n",
    "class pwskills :\n",
    "    def __init__(self,name,section,subject):\n",
    "        self.name1=name\n",
    "        self.section=section\n",
    "        self.subject1=subject\n",
    "    def return_details(self):\n",
    "        return self.name1 ,self.section ,self.subject1\n",
    "    \n",
    "obj=pwskills(\"rohan\",\"d\",\"science\")\n",
    "obj.return_details()"
   ]
  },
  {
   "cell_type": "code",
   "execution_count": 1,
   "id": "b438b452-4e97-47d0-a9b6-3f96b0d66097",
   "metadata": {},
   "outputs": [],
   "source": [
    "# The self variable is used to represent the instance of the class which is often used in object-oriented programming. \n",
    "# It works as a reference to the object.\n",
    "# Python uses the self parameter to refer to instance attributes and methods of the class."
   ]
  },
  {
   "cell_type": "code",
   "execution_count": 8,
   "id": "9dfb8872-e26f-46df-8665-c909c1206770",
   "metadata": {},
   "outputs": [
    {
     "name": "stdout",
     "output_type": "stream",
     "text": [
      "i am from animal class\n"
     ]
    }
   ],
   "source": [
    "# Inheritance allows us to define a class that inherits all the methods and properties from another class. \n",
    "# Parent class is the class being inherited from, also called base class.\n",
    "# Child class is the class that inherits from another class, also called derived class.\n",
    "\n",
    "#SINGLE\n",
    "\n",
    "class animal:\n",
    "    def return_deatils(self):\n",
    "        return \"i am from animal class\"\n",
    "    \n",
    "class dog(animal):\n",
    "    \n",
    "    def inherit(self):\n",
    "        pass\n",
    "obj = dog()\n",
    "print(obj.return_deatils())\n"
   ]
  },
  {
   "cell_type": "code",
   "execution_count": null,
   "id": "1488a6a8-b1ae-4956-a623-301de6c90884",
   "metadata": {},
   "outputs": [],
   "source": []
  }
 ],
 "metadata": {
  "kernelspec": {
   "display_name": "Python 3 (ipykernel)",
   "language": "python",
   "name": "python3"
  },
  "language_info": {
   "codemirror_mode": {
    "name": "ipython",
    "version": 3
   },
   "file_extension": ".py",
   "mimetype": "text/x-python",
   "name": "python",
   "nbconvert_exporter": "python",
   "pygments_lexer": "ipython3",
   "version": "3.10.8"
  }
 },
 "nbformat": 4,
 "nbformat_minor": 5
}
